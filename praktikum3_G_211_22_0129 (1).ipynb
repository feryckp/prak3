{
  "nbformat": 4,
  "nbformat_minor": 0,
  "metadata": {
    "colab": {
      "private_outputs": true,
      "provenance": []
    },
    "kernelspec": {
      "name": "python3",
      "display_name": "Python 3"
    },
    "language_info": {
      "name": "python"
    }
  },
  "cells": [
    {
      "cell_type": "code",
      "execution_count": null,
      "metadata": {
        "id": "zxq80RYIGf4Q"
      },
      "outputs": [],
      "source": [
        "def convert(input_list):\n",
        "    result = []\n",
        "\n",
        "    for char in input_list:\n",
        "        result.append(char)\n",
        "\n",
        "    return ''.join(result)\n",
        "\n",
        "# Contoh penggunaan\n",
        "input_list = ['j', 'e', 'r', 'u', 'k', 'n', 'i', 'p', 'i', 's', ]\n",
        "output = convert(input_list)\n",
        "\n",
        "# Menampilkan output saja\n",
        "print(output)"
      ]
    }
  ]
}